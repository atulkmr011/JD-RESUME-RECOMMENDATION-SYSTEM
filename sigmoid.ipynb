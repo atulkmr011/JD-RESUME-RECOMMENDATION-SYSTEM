{
 "cells": [
  {
   "cell_type": "markdown",
   "metadata": {},
   "source": [
    "# Recommender System"
   ]
  },
  {
   "cell_type": "code",
   "execution_count": 87,
   "metadata": {},
   "outputs": [],
   "source": [
    "import pandas as pd\n",
    "import numpy as np\n",
    "\n",
    "from sklearn.feature_extraction.text import TfidfVectorizer\n",
    "\n",
    "from sklearn.metrics.pairwise import sigmoid_kernel"
   ]
  },
  {
   "cell_type": "code",
   "execution_count": 88,
   "metadata": {},
   "outputs": [],
   "source": [
    "df=pd.read_csv('split.csv')"
   ]
  },
  {
   "cell_type": "code",
   "execution_count": 89,
   "metadata": {},
   "outputs": [
    {
     "data": {
      "text/html": [
       "<div>\n",
       "<style scoped>\n",
       "    .dataframe tbody tr th:only-of-type {\n",
       "        vertical-align: middle;\n",
       "    }\n",
       "\n",
       "    .dataframe tbody tr th {\n",
       "        vertical-align: top;\n",
       "    }\n",
       "\n",
       "    .dataframe thead th {\n",
       "        text-align: right;\n",
       "    }\n",
       "</style>\n",
       "<table border=\"1\" class=\"dataframe\">\n",
       "  <thead>\n",
       "    <tr style=\"text-align: right;\">\n",
       "      <th></th>\n",
       "      <th>details</th>\n",
       "      <th>filename_new</th>\n",
       "    </tr>\n",
       "  </thead>\n",
       "  <tbody>\n",
       "    <tr>\n",
       "      <th>0</th>\n",
       "      <td>danah nielsen hostess albuquerque nm   challen...</td>\n",
       "      <td>Resume DanahNielsen_26409</td>\n",
       "    </tr>\n",
       "    <tr>\n",
       "      <th>1</th>\n",
       "      <td>christopher brown west memphis ar obtain  orga...</td>\n",
       "      <td>Resume ChristopherBrown_30650</td>\n",
       "    </tr>\n",
       "    <tr>\n",
       "      <th>2</th>\n",
       "      <td>minnesota state park er security ranger season...</td>\n",
       "      <td>Resume MinnesotaStateParksWorkerSecurityRanger...</td>\n",
       "    </tr>\n",
       "    <tr>\n",
       "      <th>3</th>\n",
       "      <td>naveen net developer java developer bcbsm mi d...</td>\n",
       "      <td>Resume NaveenNetDeveloper_46188</td>\n",
       "    </tr>\n",
       "    <tr>\n",
       "      <th>4</th>\n",
       "      <td>tim schannauer electrician helper lane valente...</td>\n",
       "      <td>Resume TimSchannauer_22646</td>\n",
       "    </tr>\n",
       "  </tbody>\n",
       "</table>\n",
       "</div>"
      ],
      "text/plain": [
       "                                             details  \\\n",
       "0  danah nielsen hostess albuquerque nm   challen...   \n",
       "1  christopher brown west memphis ar obtain  orga...   \n",
       "2  minnesota state park er security ranger season...   \n",
       "3  naveen net developer java developer bcbsm mi d...   \n",
       "4  tim schannauer electrician helper lane valente...   \n",
       "\n",
       "                                        filename_new  \n",
       "0                          Resume DanahNielsen_26409  \n",
       "1                      Resume ChristopherBrown_30650  \n",
       "2  Resume MinnesotaStateParksWorkerSecurityRanger...  \n",
       "3                    Resume NaveenNetDeveloper_46188  \n",
       "4                         Resume TimSchannauer_22646  "
      ]
     },
     "execution_count": 89,
     "metadata": {},
     "output_type": "execute_result"
    }
   ],
   "source": [
    "df.head()"
   ]
  },
  {
   "cell_type": "code",
   "execution_count": 90,
   "metadata": {},
   "outputs": [],
   "source": [
    "#TF-IDF Vectoriser\n",
    "\n",
    "tfv = TfidfVectorizer(min_df=3, max_df = 0.75, max_features=None, \n",
    "            strip_accents='unicode', analyzer='word',token_pattern=r'\\w{1,}',\n",
    "            ngram_range=(1, 3),\n",
    "            stop_words = 'english')\n",
    "tfv_matrix = tfv.fit_transform(df[\"details\"])\n",
    "# max_df = 0.75"
   ]
  },
  {
   "cell_type": "code",
   "execution_count": 91,
   "metadata": {},
   "outputs": [
    {
     "data": {
      "text/plain": [
       "<1599x20106 sparse matrix of type '<class 'numpy.float64'>'\n",
       "\twith 247838 stored elements in Compressed Sparse Row format>"
      ]
     },
     "execution_count": 91,
     "metadata": {},
     "output_type": "execute_result"
    }
   ],
   "source": [
    "tfv_matrix"
   ]
  },
  {
   "cell_type": "code",
   "execution_count": 92,
   "metadata": {},
   "outputs": [],
   "source": [
    "# Computing the sigmoid kernel\n",
    "\n",
    "sig = sigmoid_kernel(tfv_matrix,tfv_matrix)"
   ]
  },
  {
   "cell_type": "code",
   "execution_count": 93,
   "metadata": {},
   "outputs": [],
   "source": [
    "#Exporting as pickle file\n",
    "import pickle\n",
    "with open('sig.pkl', 'wb') as f:\n",
    "    pickle.dump(sig, f)"
   ]
  },
  {
   "cell_type": "code",
   "execution_count": 94,
   "metadata": {},
   "outputs": [],
   "source": [
    "#Indexing for the title\n",
    "indices_sig = pd.Series(df.index, index=df['filename_new']).drop_duplicates()"
   ]
  },
  {
   "cell_type": "code",
   "execution_count": 95,
   "metadata": {},
   "outputs": [],
   "source": [
    "#function for recommendation\n",
    "def give_rec(title, sig=sig):\n",
    "    # Get the index corresponding to original_title\n",
    "    idx = indices_sig[title]\n",
    "\n",
    "    # Get the pairwsie similarity scores \n",
    "    sig_scores = list(enumerate(sig[idx]))\n",
    "\n",
    "    # Sort the output \n",
    "    sig_scores = sorted(sig_scores, key=lambda x: x[1], reverse=True)\n",
    "\n",
    "    # Scores of the 10 most similar output\n",
    "    sig_scores = sig_scores[1:25]\n",
    "\n",
    "    #  indices\n",
    "    title_indices = [i[0] for i in sig_scores]\n",
    "\n",
    "    # Top 10 most similar \n",
    "    return df['filename_new'].iloc[title_indices]"
   ]
  },
  {
   "cell_type": "markdown",
   "metadata": {},
   "source": [
    "# Given Resume and similar JD output"
   ]
  },
  {
   "cell_type": "code",
   "execution_count": 96,
   "metadata": {},
   "outputs": [],
   "source": [
    "sigrec_1=give_rec('Resume DanahNielsen_26409')"
   ]
  },
  {
   "cell_type": "code",
   "execution_count": 97,
   "metadata": {},
   "outputs": [
    {
     "name": "stdout",
     "output_type": "stream",
     "text": [
      "['JD Customer Service R_138097', 'JD Customer Service R_122169', 'JD Customer Service R_145262']\n"
     ]
    }
   ],
   "source": [
    "# Import re module to use regular expression\n",
    "import re\n",
    " \n",
    "# Declare the list contains subject code\n",
    "sublist = sigrec_1\n",
    "\n",
    "# Declare the filter function\n",
    "def Filter(datalist):\n",
    "    # Search data based on regular expression in the list\n",
    "    return [val for val in datalist\n",
    "        if re.search(r'^JD', val)]\n",
    "\n",
    "# Print the filter data\n",
    "print(Filter(sublist))"
   ]
  },
  {
   "cell_type": "markdown",
   "metadata": {},
   "source": [
    "# Given JD similar and Resume output"
   ]
  },
  {
   "cell_type": "code",
   "execution_count": 98,
   "metadata": {},
   "outputs": [],
   "source": [
    "sigrec_2=give_rec('JD Senior IT Network_56504')"
   ]
  },
  {
   "cell_type": "code",
   "execution_count": 99,
   "metadata": {},
   "outputs": [
    {
     "name": "stdout",
     "output_type": "stream",
     "text": [
      "['Resume BTechAtoyebi_21137', 'Resume JasonEnglish_48805', 'Resume LuciAsenjo_13398']\n"
     ]
    }
   ],
   "source": [
    "# Import re module to use regular expression\n",
    "import re\n",
    " \n",
    "# Declare the list contains subject code\n",
    "sublist = sigrec_2\n",
    "\n",
    "# Declare the filter function\n",
    "def Filter(datalist):\n",
    "    # Search data based on regular expression in the list\n",
    "    return [val for val in datalist\n",
    "        if re.search(r'^Resume', val)]\n",
    "\n",
    "# Print the filter data\n",
    "print(Filter(sublist))"
   ]
  },
  {
   "cell_type": "markdown",
   "metadata": {},
   "source": [
    "# Given Resume and sililar Resume output"
   ]
  },
  {
   "cell_type": "code",
   "execution_count": 100,
   "metadata": {},
   "outputs": [],
   "source": [
    "sigrec_3=give_rec('Resume Associate_24579')"
   ]
  },
  {
   "cell_type": "code",
   "execution_count": 101,
   "metadata": {},
   "outputs": [
    {
     "name": "stdout",
     "output_type": "stream",
     "text": [
      "['Resume Communicator_47889', 'Resume StephanieCullins_20339', 'Resume MarissaAnderson_46415', 'Resume JazzminJohnson_20476', 'Resume BrittaniPearson_14034', 'Resume YurisDelcid_22677', 'Resume ChristopherMartinelli_43849', 'Resume MarySanders_6097', 'Resume CashierSalesAssociate_5664', 'Resume WarehouseEmployee_11106', 'Resume OvernightStocking_33309', 'Resume OperationsManagerFriedmansApplianceCenter_48662', 'Resume CustomerServiceRepresentative_9918', 'Resume MarkStuder_13053', 'Resume AshleyNavarro_20162', 'Resume SeniorCustomerServiceRepresentative_34676', 'Resume WinstonBailey_17689', 'Resume ShawtrellJenkins_41953', 'Resume TatianaSimon_46152', 'Resume CrewMember_11837', 'Resume AustinJiang_22563', 'Resume StockAssociate_44849', 'Resume Conducetdadministrative_44894']\n"
     ]
    }
   ],
   "source": [
    "# Import re module to use regular expression\n",
    "import re\n",
    " \n",
    "# Declare the list contains subject code\n",
    "sublist = sigrec_3\n",
    "\n",
    "# Declare the filter function\n",
    "def Filter(datalist):\n",
    "    # Search data based on regular expression in the list\n",
    "    return [val for val in datalist\n",
    "        if re.search(r'^Resume', val)]\n",
    "\n",
    "# Print the filter data\n",
    "print(Filter(sublist))"
   ]
  },
  {
   "cell_type": "markdown",
   "metadata": {},
   "source": [
    "# Given JD and similar JD output"
   ]
  },
  {
   "cell_type": "code",
   "execution_count": 102,
   "metadata": {},
   "outputs": [],
   "source": [
    "sigrec_4=give_rec('JD Senior IT Network_56504')"
   ]
  },
  {
   "cell_type": "code",
   "execution_count": 103,
   "metadata": {},
   "outputs": [
    {
     "name": "stdout",
     "output_type": "stream",
     "text": [
      "['JD Network Engineer_28249', 'JD Information Securi_27888', 'JD Sr Network Integra_45136', 'JD Infrastructure Arc_29292', 'JD NOC Engineer_31706', 'JD Project Manager Ne_27426', 'JD NOC Engineer_64709', 'JD IT Tech Services L_37442', 'JD Data Center Archit_37869', 'JD Systems Administra_27390', 'JD IT Services Techni_115385', 'JD Desktop Support Sp_41057', 'JD Cisco Contact Cent_34104', 'JD SW Engineer Embedd_34124', 'JD Area Manager Serv_65801', 'JD IT Manager_93204', 'JD Senior Desktop Sup_25277', 'JD Operations Directo_65647', 'JD Risk Regulation A_86673', 'JD Account Executive_42343', 'JD Sr Collaboration E_32835']\n"
     ]
    }
   ],
   "source": [
    "# Import re module to use regular expression\n",
    "import re\n",
    " \n",
    "# Declare the list contains subject code\n",
    "sublist = sigrec_4\n",
    "\n",
    "# Declare the filter function\n",
    "def Filter(datalist):\n",
    "    # Search data based on regular expression in the list\n",
    "    return [val for val in datalist\n",
    "        if re.search(r'^JD', val)]\n",
    "\n",
    "# Print the filter data\n",
    "print(Filter(sublist))"
   ]
  },
  {
   "cell_type": "code",
   "execution_count": null,
   "metadata": {},
   "outputs": [],
   "source": []
  }
 ],
 "metadata": {
  "kernelspec": {
   "display_name": "Python 3",
   "language": "python",
   "name": "python3"
  },
  "language_info": {
   "codemirror_mode": {
    "name": "ipython",
    "version": 3
   },
   "file_extension": ".py",
   "mimetype": "text/x-python",
   "name": "python",
   "nbconvert_exporter": "python",
   "pygments_lexer": "ipython3",
   "version": "3.8.5"
  }
 },
 "nbformat": 4,
 "nbformat_minor": 4
}
